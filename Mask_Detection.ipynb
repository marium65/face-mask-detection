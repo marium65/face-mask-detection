{
  "nbformat": 4,
  "nbformat_minor": 0,
  "metadata": {
    "colab": {
      "provenance": []
    },
    "kernelspec": {
      "name": "python3",
      "display_name": "Python 3"
    },
    "language_info": {
      "name": "python"
    }
  },
  "cells": [
    {
      "cell_type": "code",
      "execution_count": null,
      "metadata": {
        "colab": {
          "base_uri": "https://localhost:8080/",
          "height": 1000
        },
        "id": "Ge_hboM3s8q-",
        "outputId": "1cf1cf54-40e6-423f-80d4-bc00f89b4fe3"
      },
      "outputs": [
        {
          "metadata": {
            "tags": null
          },
          "name": "stderr",
          "output_type": "stream",
          "text": [
            "/usr/local/lib/python3.7/dist-packages/keras/optimizer_v2/adam.py:105: UserWarning: The `lr` argument is deprecated, use `learning_rate` instead.\n",
            "  super(Adam, self).__init__(name, **kwargs)\n",
            "/usr/local/lib/python3.7/dist-packages/ipykernel_launcher.py:131: UserWarning: `Model.fit_generator` is deprecated and will be removed in a future version. Please use `Model.fit`, which supports generators.\n"
          ]
        },
        {
          "output_type": "stream",
          "name": "stdout",
          "text": [
            "Epoch 1/100\n",
            "12/12 [==============================] - 27s 2s/step - loss: 0.4773 - accuracy: 0.8465 - val_loss: 0.5009 - val_accuracy: 0.7850\n",
            "Epoch 2/100\n",
            "12/12 [==============================] - 26s 2s/step - loss: 0.1962 - accuracy: 0.9361 - val_loss: 0.4268 - val_accuracy: 0.8400\n",
            "Epoch 3/100\n",
            "12/12 [==============================] - 26s 2s/step - loss: 0.1597 - accuracy: 0.9524 - val_loss: 1.3143 - val_accuracy: 0.5300\n",
            "Epoch 4/100\n",
            "12/12 [==============================] - 25s 2s/step - loss: 0.1225 - accuracy: 0.9660 - val_loss: 1.6664 - val_accuracy: 0.5300\n",
            "Epoch 5/100\n",
            "12/12 [==============================] - 25s 2s/step - loss: 0.0926 - accuracy: 0.9742 - val_loss: 2.3644 - val_accuracy: 0.5300\n",
            "Epoch 6/100\n",
            "12/12 [==============================] - 25s 2s/step - loss: 0.1188 - accuracy: 0.9565 - val_loss: 3.2136 - val_accuracy: 0.5300\n",
            "Epoch 7/100\n",
            "12/12 [==============================] - 25s 2s/step - loss: 0.1405 - accuracy: 0.9592 - val_loss: 2.2930 - val_accuracy: 0.5300\n",
            "Epoch 8/100\n",
            "12/12 [==============================] - 25s 2s/step - loss: 0.1273 - accuracy: 0.9606 - val_loss: 3.6259 - val_accuracy: 0.5300\n",
            "Epoch 9/100\n",
            "12/12 [==============================] - 25s 2s/step - loss: 0.0875 - accuracy: 0.9688 - val_loss: 4.2758 - val_accuracy: 0.5300\n",
            "Epoch 10/100\n",
            "12/12 [==============================] - 25s 2s/step - loss: 0.0822 - accuracy: 0.9810 - val_loss: 3.1515 - val_accuracy: 0.5300\n",
            "Epoch 11/100\n",
            "12/12 [==============================] - 25s 2s/step - loss: 0.0743 - accuracy: 0.9810 - val_loss: 3.5636 - val_accuracy: 0.5300\n",
            "Epoch 12/100\n",
            "12/12 [==============================] - 25s 2s/step - loss: 0.0690 - accuracy: 0.9766 - val_loss: 4.0617 - val_accuracy: 0.5300\n",
            "Epoch 13/100\n",
            "12/12 [==============================] - 25s 2s/step - loss: 0.0319 - accuracy: 0.9918 - val_loss: 4.3783 - val_accuracy: 0.5300\n",
            "Epoch 14/100\n",
            "12/12 [==============================] - 25s 2s/step - loss: 0.0506 - accuracy: 0.9878 - val_loss: 3.8881 - val_accuracy: 0.5300\n",
            "Epoch 15/100\n",
            "12/12 [==============================] - 25s 2s/step - loss: 0.0468 - accuracy: 0.9783 - val_loss: 3.6289 - val_accuracy: 0.5300\n",
            "Epoch 16/100\n",
            "12/12 [==============================] - 25s 2s/step - loss: 0.0556 - accuracy: 0.9823 - val_loss: 2.4264 - val_accuracy: 0.5300\n",
            "Epoch 17/100\n",
            "12/12 [==============================] - 25s 2s/step - loss: 0.0590 - accuracy: 0.9796 - val_loss: 1.3133 - val_accuracy: 0.5300\n",
            "Epoch 18/100\n",
            "12/12 [==============================] - 25s 2s/step - loss: 0.0455 - accuracy: 0.9851 - val_loss: 0.4480 - val_accuracy: 0.8000\n",
            "Epoch 19/100\n",
            "12/12 [==============================] - 25s 2s/step - loss: 0.0440 - accuracy: 0.9837 - val_loss: 1.5120 - val_accuracy: 0.5300\n",
            "Epoch 20/100\n",
            "12/12 [==============================] - 25s 2s/step - loss: 0.0318 - accuracy: 0.9932 - val_loss: 1.2589 - val_accuracy: 0.5650\n",
            "Epoch 21/100\n",
            "12/12 [==============================] - 25s 2s/step - loss: 0.0261 - accuracy: 0.9905 - val_loss: 2.5377 - val_accuracy: 0.5300\n",
            "Epoch 22/100\n",
            "12/12 [==============================] - 25s 2s/step - loss: 0.0283 - accuracy: 0.9891 - val_loss: 1.1027 - val_accuracy: 0.5650\n",
            "Epoch 23/100\n",
            "12/12 [==============================] - 24s 2s/step - loss: 0.0494 - accuracy: 0.9823 - val_loss: 7.5241 - val_accuracy: 0.5300\n",
            "Epoch 24/100\n",
            "12/12 [==============================] - 25s 2s/step - loss: 0.0350 - accuracy: 0.9810 - val_loss: 4.2702 - val_accuracy: 0.5300\n",
            "Epoch 25/100\n",
            "12/12 [==============================] - 25s 2s/step - loss: 0.0195 - accuracy: 0.9932 - val_loss: 2.5843 - val_accuracy: 0.5350\n",
            "Epoch 26/100\n",
            "12/12 [==============================] - 25s 2s/step - loss: 0.0358 - accuracy: 0.9891 - val_loss: 3.4475 - val_accuracy: 0.5300\n",
            "Epoch 27/100\n",
            "12/12 [==============================] - 25s 2s/step - loss: 0.0370 - accuracy: 0.9851 - val_loss: 2.1040 - val_accuracy: 0.5900\n",
            "Epoch 28/100\n",
            "12/12 [==============================] - 25s 2s/step - loss: 0.0274 - accuracy: 0.9918 - val_loss: 2.3258 - val_accuracy: 0.5700\n",
            "Epoch 29/100\n",
            "12/12 [==============================] - 25s 2s/step - loss: 0.0212 - accuracy: 0.9922 - val_loss: 2.8397 - val_accuracy: 0.5300\n",
            "Epoch 30/100\n",
            "12/12 [==============================] - 24s 2s/step - loss: 0.0202 - accuracy: 0.9946 - val_loss: 1.4979 - val_accuracy: 0.6350\n",
            "Epoch 31/100\n",
            "12/12 [==============================] - 24s 2s/step - loss: 0.0192 - accuracy: 0.9932 - val_loss: 0.3544 - val_accuracy: 0.9100\n",
            "Epoch 32/100\n",
            "12/12 [==============================] - 25s 2s/step - loss: 0.0231 - accuracy: 0.9932 - val_loss: 0.2327 - val_accuracy: 0.9300\n",
            "Epoch 33/100\n",
            "12/12 [==============================] - 25s 2s/step - loss: 0.0311 - accuracy: 0.9878 - val_loss: 0.4405 - val_accuracy: 0.8800\n",
            "Epoch 34/100\n",
            "12/12 [==============================] - 25s 2s/step - loss: 0.0295 - accuracy: 0.9864 - val_loss: 1.0881 - val_accuracy: 0.7150\n",
            "Epoch 35/100\n",
            "12/12 [==============================] - 24s 2s/step - loss: 0.0347 - accuracy: 0.9864 - val_loss: 0.2334 - val_accuracy: 0.9500\n",
            "Epoch 36/100\n",
            "12/12 [==============================] - 25s 2s/step - loss: 0.0305 - accuracy: 0.9918 - val_loss: 0.3724 - val_accuracy: 0.9100\n",
            "Epoch 37/100\n",
            "12/12 [==============================] - 25s 2s/step - loss: 0.0307 - accuracy: 0.9896 - val_loss: 0.2217 - val_accuracy: 0.9250\n",
            "Epoch 38/100\n",
            "12/12 [==============================] - 24s 2s/step - loss: 0.0483 - accuracy: 0.9837 - val_loss: 0.0362 - val_accuracy: 0.9900\n",
            "Epoch 39/100\n",
            "12/12 [==============================] - 24s 2s/step - loss: 0.0280 - accuracy: 0.9946 - val_loss: 0.0679 - val_accuracy: 0.9700\n",
            "Epoch 40/100\n",
            "12/12 [==============================] - 25s 2s/step - loss: 0.0159 - accuracy: 0.9973 - val_loss: 0.1501 - val_accuracy: 0.9400\n",
            "Epoch 41/100\n",
            "12/12 [==============================] - 24s 2s/step - loss: 0.0113 - accuracy: 0.9973 - val_loss: 0.1026 - val_accuracy: 0.9750\n",
            "Epoch 42/100\n",
            "12/12 [==============================] - 25s 2s/step - loss: 0.0091 - accuracy: 0.9973 - val_loss: 0.1685 - val_accuracy: 0.9600\n",
            "Epoch 43/100\n",
            "12/12 [==============================] - 25s 2s/step - loss: 0.0070 - accuracy: 0.9986 - val_loss: 0.0648 - val_accuracy: 0.9800\n",
            "Epoch 44/100\n",
            "12/12 [==============================] - 24s 2s/step - loss: 0.0120 - accuracy: 0.9973 - val_loss: 0.0218 - val_accuracy: 0.9900\n",
            "Epoch 45/100\n",
            "12/12 [==============================] - 24s 2s/step - loss: 0.0141 - accuracy: 0.9932 - val_loss: 0.0131 - val_accuracy: 0.9950\n",
            "Epoch 46/100\n",
            "12/12 [==============================] - 24s 2s/step - loss: 0.0131 - accuracy: 0.9973 - val_loss: 0.0169 - val_accuracy: 0.9900\n",
            "Epoch 47/100\n",
            "12/12 [==============================] - 24s 2s/step - loss: 0.0195 - accuracy: 0.9918 - val_loss: 0.0288 - val_accuracy: 0.9900\n",
            "Epoch 48/100\n",
            "12/12 [==============================] - 25s 2s/step - loss: 0.0216 - accuracy: 0.9948 - val_loss: 0.0495 - val_accuracy: 0.9900\n",
            "Epoch 49/100\n",
            "12/12 [==============================] - 24s 2s/step - loss: 0.0199 - accuracy: 0.9932 - val_loss: 0.0307 - val_accuracy: 0.9850\n",
            "Epoch 50/100\n",
            "12/12 [==============================] - 25s 2s/step - loss: 0.0273 - accuracy: 0.9918 - val_loss: 0.3506 - val_accuracy: 0.9100\n",
            "Epoch 51/100\n",
            "12/12 [==============================] - 24s 2s/step - loss: 0.0140 - accuracy: 0.9932 - val_loss: 0.3475 - val_accuracy: 0.9400\n",
            "Epoch 52/100\n",
            "12/12 [==============================] - 25s 2s/step - loss: 0.0133 - accuracy: 0.9946 - val_loss: 0.1582 - val_accuracy: 0.9750\n",
            "Epoch 53/100\n",
            "12/12 [==============================] - 24s 2s/step - loss: 0.0169 - accuracy: 0.9918 - val_loss: 0.0319 - val_accuracy: 0.9900\n",
            "Epoch 54/100\n",
            "12/12 [==============================] - 25s 2s/step - loss: 0.0154 - accuracy: 0.9946 - val_loss: 0.0209 - val_accuracy: 0.9900\n",
            "Epoch 55/100\n",
            "12/12 [==============================] - 25s 2s/step - loss: 0.0152 - accuracy: 0.9932 - val_loss: 0.0196 - val_accuracy: 0.9950\n",
            "Epoch 56/100\n",
            "12/12 [==============================] - 24s 2s/step - loss: 0.0101 - accuracy: 0.9959 - val_loss: 0.0160 - val_accuracy: 0.9950\n",
            "Epoch 57/100\n",
            "12/12 [==============================] - 25s 2s/step - loss: 0.0170 - accuracy: 0.9948 - val_loss: 0.4370 - val_accuracy: 0.9400\n",
            "Epoch 58/100\n",
            "12/12 [==============================] - 24s 2s/step - loss: 0.0280 - accuracy: 0.9946 - val_loss: 0.0664 - val_accuracy: 0.9850\n",
            "Epoch 59/100\n",
            "12/12 [==============================] - 25s 2s/step - loss: 0.0438 - accuracy: 0.9922 - val_loss: 0.0376 - val_accuracy: 0.9900\n",
            "Epoch 60/100\n",
            "12/12 [==============================] - 25s 2s/step - loss: 0.0181 - accuracy: 0.9948 - val_loss: 0.0631 - val_accuracy: 0.9800\n",
            "Epoch 61/100\n",
            "12/12 [==============================] - 25s 2s/step - loss: 0.0303 - accuracy: 0.9905 - val_loss: 0.0741 - val_accuracy: 0.9850\n",
            "Epoch 62/100\n",
            "12/12 [==============================] - 24s 2s/step - loss: 0.0112 - accuracy: 0.9959 - val_loss: 0.0245 - val_accuracy: 0.9900\n",
            "Epoch 63/100\n",
            "12/12 [==============================] - 25s 2s/step - loss: 0.0147 - accuracy: 0.9959 - val_loss: 0.0377 - val_accuracy: 0.9850\n",
            "Epoch 64/100\n",
            "12/12 [==============================] - 25s 2s/step - loss: 0.0064 - accuracy: 1.0000 - val_loss: 0.0257 - val_accuracy: 0.9850\n",
            "Epoch 65/100\n",
            "12/12 [==============================] - 25s 2s/step - loss: 0.0266 - accuracy: 0.9918 - val_loss: 0.0754 - val_accuracy: 0.9650\n",
            "Epoch 66/100\n",
            "12/12 [==============================] - 25s 2s/step - loss: 0.0211 - accuracy: 0.9918 - val_loss: 0.0925 - val_accuracy: 0.9700\n",
            "Epoch 67/100\n",
            "12/12 [==============================] - 25s 2s/step - loss: 0.0339 - accuracy: 0.9905 - val_loss: 0.3667 - val_accuracy: 0.9100\n",
            "Epoch 68/100\n",
            "12/12 [==============================] - 25s 2s/step - loss: 0.0116 - accuracy: 0.9973 - val_loss: 0.1018 - val_accuracy: 0.9750\n",
            "Epoch 69/100\n",
            "12/12 [==============================] - 25s 2s/step - loss: 0.0100 - accuracy: 0.9986 - val_loss: 0.0253 - val_accuracy: 0.9900\n",
            "Epoch 70/100\n",
            "12/12 [==============================] - 25s 2s/step - loss: 0.0069 - accuracy: 0.9973 - val_loss: 0.0193 - val_accuracy: 0.9900\n",
            "Epoch 71/100\n",
            "12/12 [==============================] - 25s 2s/step - loss: 0.0072 - accuracy: 0.9986 - val_loss: 0.0383 - val_accuracy: 0.9850\n",
            "Epoch 72/100\n",
            "12/12 [==============================] - 25s 2s/step - loss: 0.0087 - accuracy: 0.9973 - val_loss: 0.0227 - val_accuracy: 0.9900\n",
            "Epoch 73/100\n",
            "12/12 [==============================] - 25s 2s/step - loss: 0.0254 - accuracy: 0.9918 - val_loss: 0.0525 - val_accuracy: 0.9750\n",
            "Epoch 74/100\n",
            "12/12 [==============================] - 24s 2s/step - loss: 0.0048 - accuracy: 1.0000 - val_loss: 0.0347 - val_accuracy: 0.9850\n",
            "Epoch 75/100\n",
            "12/12 [==============================] - 24s 2s/step - loss: 0.0147 - accuracy: 0.9959 - val_loss: 0.0175 - val_accuracy: 0.9850\n",
            "Epoch 76/100\n",
            "12/12 [==============================] - 24s 2s/step - loss: 0.0053 - accuracy: 0.9986 - val_loss: 0.0102 - val_accuracy: 0.9900\n",
            "Epoch 77/100\n",
            "12/12 [==============================] - 25s 2s/step - loss: 0.0284 - accuracy: 0.9891 - val_loss: 0.3728 - val_accuracy: 0.9300\n",
            "Epoch 78/100\n",
            "12/12 [==============================] - 25s 2s/step - loss: 0.0255 - accuracy: 0.9918 - val_loss: 0.5069 - val_accuracy: 0.8650\n",
            "Epoch 79/100\n",
            "12/12 [==============================] - 26s 2s/step - loss: 0.0222 - accuracy: 0.9909 - val_loss: 0.6321 - val_accuracy: 0.8650\n",
            "Epoch 80/100\n",
            "12/12 [==============================] - 25s 2s/step - loss: 0.0248 - accuracy: 0.9905 - val_loss: 0.2894 - val_accuracy: 0.9300\n",
            "Epoch 81/100\n",
            "12/12 [==============================] - 25s 2s/step - loss: 0.0234 - accuracy: 0.9918 - val_loss: 0.2386 - val_accuracy: 0.9650\n",
            "Epoch 82/100\n",
            "12/12 [==============================] - 25s 2s/step - loss: 0.0126 - accuracy: 0.9959 - val_loss: 3.1622 - val_accuracy: 0.5700\n",
            "Epoch 83/100\n",
            "12/12 [==============================] - 25s 2s/step - loss: 0.0146 - accuracy: 0.9946 - val_loss: 1.7945 - val_accuracy: 0.6000\n",
            "Epoch 84/100\n",
            "12/12 [==============================] - 25s 2s/step - loss: 0.0282 - accuracy: 0.9918 - val_loss: 0.3106 - val_accuracy: 0.9550\n",
            "Epoch 85/100\n",
            "12/12 [==============================] - 24s 2s/step - loss: 0.0128 - accuracy: 0.9959 - val_loss: 0.1436 - val_accuracy: 0.9650\n",
            "Epoch 86/100\n",
            "12/12 [==============================] - 25s 2s/step - loss: 0.0140 - accuracy: 0.9959 - val_loss: 0.1129 - val_accuracy: 0.9500\n",
            "Epoch 87/100\n",
            "12/12 [==============================] - 25s 2s/step - loss: 0.0307 - accuracy: 0.9918 - val_loss: 0.5273 - val_accuracy: 0.9150\n",
            "Epoch 88/100\n",
            "12/12 [==============================] - 26s 2s/step - loss: 0.0235 - accuracy: 0.9896 - val_loss: 0.6275 - val_accuracy: 0.9100\n",
            "Epoch 89/100\n",
            "12/12 [==============================] - 24s 2s/step - loss: 0.0319 - accuracy: 0.9918 - val_loss: 0.1900 - val_accuracy: 0.9650\n",
            "Epoch 90/100\n",
            "12/12 [==============================] - 25s 2s/step - loss: 0.0135 - accuracy: 0.9959 - val_loss: 0.4358 - val_accuracy: 0.9250\n",
            "Epoch 91/100\n",
            "12/12 [==============================] - 24s 2s/step - loss: 0.0159 - accuracy: 0.9946 - val_loss: 0.1876 - val_accuracy: 0.9600\n",
            "Epoch 92/100\n",
            "12/12 [==============================] - 25s 2s/step - loss: 0.0083 - accuracy: 0.9974 - val_loss: 0.0456 - val_accuracy: 0.9850\n",
            "Epoch 93/100\n",
            "12/12 [==============================] - 25s 2s/step - loss: 0.0071 - accuracy: 0.9986 - val_loss: 0.1008 - val_accuracy: 0.9700\n",
            "Epoch 94/100\n",
            "12/12 [==============================] - 25s 2s/step - loss: 0.0094 - accuracy: 0.9973 - val_loss: 0.0170 - val_accuracy: 0.9950\n",
            "Epoch 95/100\n",
            "12/12 [==============================] - 25s 2s/step - loss: 0.0178 - accuracy: 0.9946 - val_loss: 0.0150 - val_accuracy: 0.9900\n",
            "Epoch 96/100\n",
            "12/12 [==============================] - 24s 2s/step - loss: 0.0094 - accuracy: 0.9986 - val_loss: 0.1336 - val_accuracy: 0.9700\n",
            "Epoch 97/100\n",
            "12/12 [==============================] - 25s 2s/step - loss: 0.0059 - accuracy: 0.9986 - val_loss: 0.0488 - val_accuracy: 0.9850\n",
            "Epoch 98/100\n",
            "12/12 [==============================] - 24s 2s/step - loss: 0.0059 - accuracy: 0.9973 - val_loss: 0.0883 - val_accuracy: 0.9700\n",
            "Epoch 99/100\n",
            "12/12 [==============================] - 25s 2s/step - loss: 0.0136 - accuracy: 0.9946 - val_loss: 0.0718 - val_accuracy: 0.9800\n",
            "Epoch 100/100\n",
            "12/12 [==============================] - 25s 2s/step - loss: 0.0072 - accuracy: 0.9973 - val_loss: 0.0615 - val_accuracy: 0.9850\n",
            "INFO:tensorflow:Assets written to: facemask_detection.model/assets\n"
          ]
        },
        {
          "output_type": "display_data",
          "data": {
            "image/png": "[encoded data removed]",
            "text/plain": [
              "<Figure size 432x288 with 1 Axes>"
            ]
          },
          "metadata": {}
        }
      ],
      "source": [
        "#  pip install tensorflow\n",
        "#  pip install scikit-learn\n",
        "#  pip install matplotlib\n",
        "#  pip install opencv-python\n",
        "\n",
        "from tensorflow.keras.preprocessing.image import ImageDataGenerator\n",
        "from tensorflow.keras.optimizers import Adam\n",
        "from tensorflow.keras.preprocessing.image import img_to_array\n",
        "from tensorflow.keras.utils import to_categorical, plot_model\n",
        "from tensorflow.keras.models import Sequential\n",
        "from tensorflow.keras.layers import BatchNormalization, Conv2D, MaxPooling2D, Activation, Flatten, Dropout, Dense\n",
        "from tensorflow.keras import backend as K\n",
        "from sklearn.model_selection import train_test_split\n",
        "import matplotlib.pyplot as plt\n",
        "import numpy as np\n",
        "import random\n",
        "import cv2\n",
        "import os\n",
        "import glob\n",
        "\n",
        "# initial parameters\n",
        "epochs = 100\n",
        "lr = 1e-3\n",
        "batch_size = 64\n",
        "img_dims = (96, 96, 3)\n",
        "\n",
        "data = []\n",
        "labels = []\n",
        "\n",
        "# load image files from the dataset\n",
        "image_files = [f for f in glob.glob(r'dataset' + \"/**/*\", recursive=True) if not os.path.isdir(f)]\n",
        "random.shuffle(image_files)\n",
        "\n",
        "# converting images to arrays and labelling the categories\n",
        "for img in image_files:\n",
        "\n",
        "    image = cv2.imread(img)\n",
        "\n",
        "    image = cv2.resize(image, (img_dims[0], img_dims[1]))\n",
        "    image = img_to_array(image)\n",
        "    data.append(image)\n",
        "\n",
        "    label = img.split(os.path.sep)[-2]  # dataset\\mask\\face_1162.jpg\n",
        "    if label == \"mask\":\n",
        "        label = 1\n",
        "    else:\n",
        "        label = 0\n",
        "\n",
        "    labels.append([label])  # [[1], [0], [0], ...]\n",
        "\n",
        "# pre-processing\n",
        "data = np.array(data, dtype=\"float\") / 255.0\n",
        "labels = np.array(labels)\n",
        "\n",
        "# split dataset for training and validation\n",
        "(trainX, testX, trainY, testY) = train_test_split(data, labels, test_size=0.2,\n",
        "                                                  random_state=42)\n",
        "\n",
        "trainY = to_categorical(trainY, num_classes=2)  # [[1, 0], [0, 1], [0, 1], ...]\n",
        "testY = to_categorical(testY, num_classes=2)\n",
        "\n",
        "# augmenting datset\n",
        "aug = ImageDataGenerator(rotation_range=25, width_shift_range=0.1,\n",
        "                         height_shift_range=0.1, shear_range=0.2, zoom_range=0.2,\n",
        "                         horizontal_flip=True, fill_mode=\"nearest\")\n",
        "\n",
        "\n",
        "# define model\n",
        "def build(width, height, depth, classes):\n",
        "    model = Sequential()\n",
        "    inputShape = (height, width, depth)\n",
        "    chanDim = -1\n",
        "\n",
        "    if K.image_data_format() == \"channels_first\":  # Returns a string, either 'channels_first' or 'channels_last'\n",
        "        inputShape = (depth, height, width)\n",
        "        chanDim = 1\n",
        "\n",
        "    # The axis that should be normalized, after a Conv2D layer with data_format=\"channels_first\",\n",
        "    # set axis=1 in BatchNormalization.\n",
        "\n",
        "    model.add(Conv2D(32, (3, 3), padding=\"same\", input_shape=inputShape))\n",
        "    model.add(Activation(\"relu\"))\n",
        "    model.add(BatchNormalization(axis=chanDim))\n",
        "    model.add(MaxPooling2D(pool_size=(3, 3)))\n",
        "    model.add(Dropout(0.25))\n",
        "\n",
        "    model.add(Conv2D(64, (3, 3), padding=\"same\"))\n",
        "    model.add(Activation(\"relu\"))\n",
        "    model.add(BatchNormalization(axis=chanDim))\n",
        "\n",
        "    model.add(Conv2D(64, (3, 3), padding=\"same\"))\n",
        "    model.add(Activation(\"relu\"))\n",
        "    model.add(BatchNormalization(axis=chanDim))\n",
        "    model.add(MaxPooling2D(pool_size=(2, 2)))\n",
        "    model.add(Dropout(0.25))\n",
        "\n",
        "    model.add(Conv2D(128, (3, 3), padding=\"same\"))\n",
        "    model.add(Activation(\"relu\"))\n",
        "    model.add(BatchNormalization(axis=chanDim))\n",
        "\n",
        "    model.add(Conv2D(128, (3, 3), padding=\"same\"))\n",
        "    model.add(Activation(\"relu\"))\n",
        "    model.add(BatchNormalization(axis=chanDim))\n",
        "    model.add(MaxPooling2D(pool_size=(2, 2)))\n",
        "    model.add(Dropout(0.25))\n",
        "\n",
        "    model.add(Flatten())\n",
        "    model.add(Dense(1024))\n",
        "    model.add(Activation(\"relu\"))\n",
        "    model.add(BatchNormalization())\n",
        "    model.add(Dropout(0.5))\n",
        "\n",
        "    model.add(Dense(classes))\n",
        "    model.add(Activation(\"sigmoid\"))\n",
        "\n",
        "    return model\n",
        "\n",
        "\n",
        "# build model\n",
        "model = build(width=img_dims[0], height=img_dims[1], depth=img_dims[2],\n",
        "              classes=2)\n",
        "\n",
        "# compile the model\n",
        "opt = Adam(lr=lr, decay=lr / epochs)\n",
        "model.compile(loss=\"binary_crossentropy\", optimizer=opt, metrics=[\"accuracy\"])\n",
        "\n",
        "# train the model\n",
        "H = model.fit_generator(aug.flow(trainX, trainY, batch_size=batch_size),\n",
        "                        validation_data=(testX, testY),\n",
        "                        steps_per_epoch=len(trainX) // batch_size,\n",
        "                        epochs=epochs, verbose=1)\n",
        "\n",
        "# save the model to disk\n",
        "model.save('facemask_detection.model')\n",
        "\n",
        "# plot training/validation loss/accuracy\n",
        "plt.style.use(\"ggplot\")\n",
        "plt.figure()\n",
        "N = epochs\n",
        "plt.plot(np.arange(0, N), H.history[\"loss\"], label=\"train_loss\")\n",
        "plt.plot(np.arange(0, N), H.history[\"val_loss\"], label=\"val_loss\")\n",
        "plt.plot(np.arange(0, N), H.history[\"accuracy\"], label=\"train_accuracy\")\n",
        "plt.plot(np.arange(0, N), H.history[\"val_accuracy\"], label=\"val_accuracy\")\n",
        "\n",
        "plt.title(\"Training Loss and Accuracy\")\n",
        "plt.xlabel(\"Epoch #\")\n",
        "plt.ylabel(\"Loss/Accuracy\")\n",
        "plt.legend(loc=\"upper right\")\n",
        "\n",
        "# save plot to disk\n",
        "plt.savefig('plot.png')"
      ]
    },
    {
      "cell_type": "code",
      "source": [
        "from tensorflow.keras.preprocessing.image import ImageDataGenerator\n",
        "from tensorflow.keras.optimizers import Adam\n",
        "from tensorflow.keras.preprocessing.image import img_to_array\n",
        "from tensorflow.keras.utils import to_categorical, plot_model\n",
        "from tensorflow.keras.models import Sequential\n",
        "from tensorflow.keras.layers import BatchNormalization, Conv2D, MaxPooling2D, Activation, Flatten, Dropout, Dense\n",
        "from tensorflow.keras import backend as K\n",
        "from sklearn.model_selection import train_test_split\n",
        "import matplotlib.pyplot as plt\n",
        "import numpy as np\n",
        "import random\n",
        "import cv2\n",
        "import os\n",
        "import glob\n",
        "\n",
        "data = []\n",
        "labels = []\n",
        "img_dims = (96, 96, 3)\n",
        "\n",
        "# load image files from the dataset\n",
        "image_files = [f for f in glob.glob(r'/content/dataset' + \"/**/*\", recursive=True) if not os.path.isdir(f)]\n",
        "random.shuffle(image_files)\n",
        "\n",
        "# converting images to arrays and labelling the categories\n",
        "for img in image_files:\n",
        "\n",
        "    image = cv2.imread(img)\n",
        "\n",
        "    image = cv2.resize(image, (img_dims[0], img_dims[1]))\n",
        "    image = img_to_array(image)\n",
        "    data.append(image)\n",
        "\n",
        "    label = img.split(os.path.sep)[-2]  # dataset\\woman\\face_1162.jpg\n",
        "    if label == \"mask\":\n",
        "        label = 1\n",
        "    else:\n",
        "        label = 0\n",
        "\n",
        "    labels.append([label])  # [[1], [0], [0], ...]\n",
        "\n",
        "# pre-processing\n",
        "data = np.array(data, dtype=\"float\") / 255.0\n",
        "labels = np.array(labels)\n",
        "\n",
        "# split dataset for training and validation\n",
        "(trainX, testX, trainY, testY) = train_test_split(data, labels, test_size=0.2,\n",
        "                                                  random_state=42)\n",
        "\n",
        "trainY = to_categorical(trainY, num_classes=2)  # [[1, 0], [0, 1], [0, 1], ...]\n",
        "testY = to_categorical(testY, num_classes=2)\n",
        "\n",
        "from tensorflow.keras.models import load_model\n",
        "\n",
        "model = load_model('facemask_detection.model')\n",
        "\n",
        "y_pred = model.predict(testX)\n",
        "\n",
        "new_y_pred = []\n",
        "for i in y_pred:\n",
        "  new_y_pred.append(np.argmax(i))\n",
        "\n",
        "new_y_test = []\n",
        "for i in testY:\n",
        "  new_y_test.append(np.argmax(i))\n",
        "\n",
        "from sklearn.metrics import confusion_matrix\n",
        "\n",
        "#Generate the confusion matrix\n",
        "cf_matrix = confusion_matrix(new_y_test, new_y_pred)\n",
        "\n",
        "print(cf_matrix)\n",
        "\n",
        "import seaborn as sns\n",
        "\n",
        "ax = sns.heatmap(cf_matrix/np.sum(cf_matrix), annot=True,\n",
        "                 fmt='.2%', cmap='Blues')\n",
        "\n",
        "ax.set_title('Seaborn Confusion Matrix with labels\\n\\n');\n",
        "ax.set_xlabel('\\nPredicted Values')\n",
        "ax.set_ylabel('Actual Values ');\n",
        "## Ticket labels - List must be in alphabetical order\n",
        "ax.xaxis.set_ticklabels(['no_mask','mask'])\n",
        "ax.yaxis.set_ticklabels(['no_mask','mask'])\n",
        "\n",
        "## Display the visualization of the Confusion Matrix.\n",
        "plt.show()"
      ],
      "metadata": {
        "id": "TOxcJxt5n9E3",
        "colab": {
          "base_uri": "https://localhost:8080/",
          "height": 383
        },
        "outputId": "78917026-c960-4b40-c843-d799290d68a4"
      },
      "execution_count": null,
      "outputs": [
        {
          "output_type": "stream",
          "name": "stdout",
          "text": [
            "[[110   1]\n",
            " [  0  89]]\n"
          ]
        },
        {
          "output_type": "display_data",
          "data": {
            "image/png": "[encoded data removed]",
            "text/plain": [
              "<Figure size 432x288 with 2 Axes>"
            ]
          },
          "metadata": {}
        }
      ]
    },
    {
      "cell_type": "code",
      "source": [
        "from sklearn.metrics import accuracy_score\n",
        "print(accuracy_score(new_y_test, new_y_pred))"
      ],
      "metadata": {
        "colab": {
          "base_uri": "https://localhost:8080/"
        },
        "id": "eNgOS3JX4yYf",
        "outputId": "c9b8f265-6f99-4e2b-b221-22bc4f8ec062"
      },
      "execution_count": null,
      "outputs": [
        {
          "output_type": "stream",
          "name": "stdout",
          "text": [
            "0.995\n"
          ]
        }
      ]
    },
    {
      "cell_type": "code",
      "source": [
        "print(trainX.shape)"
      ],
      "metadata": {
        "colab": {
          "base_uri": "https://localhost:8080/"
        },
        "id": "yAttYlvZHHRN",
        "outputId": "78a35075-bdb0-4891-9c6b-5a6ea476df03"
      },
      "execution_count": null,
      "outputs": [
        {
          "output_type": "stream",
          "name": "stdout",
          "text": [
            "(800, 96, 96, 3)\n"
          ]
        }
      ]
    },
    {
      "cell_type": "code",
      "source": [
        "print(trainY.shape)"
      ],
      "metadata": {
        "colab": {
          "base_uri": "https://localhost:8080/"
        },
        "id": "9xoUASdUHCkO",
        "outputId": "177d02a3-e555-461c-e04e-99a2866fc43d"
      },
      "execution_count": null,
      "outputs": [
        {
          "output_type": "stream",
          "name": "stdout",
          "text": [
            "(800, 2)\n"
          ]
        }
      ]
    },
    {
      "cell_type": "code",
      "source": [
        "print(trainX.shape)"
      ],
      "metadata": {
        "id": "SYeLSdw9HZzi",
        "outputId": "cda6e33d-8a2f-48ec-f3b1-6dccbfed1ad0",
        "colab": {
          "base_uri": "https://localhost:8080/"
        }
      },
      "execution_count": null,
      "outputs": [
        {
          "output_type": "stream",
          "name": "stdout",
          "text": [
            "(800, 96, 96, 3)\n"
          ]
        }
      ]
    },
    {
      "cell_type": "code",
      "source": [
        "print(testY.shape)"
      ],
      "metadata": {
        "colab": {
          "base_uri": "https://localhost:8080/"
        },
        "id": "NDImurqW6MU_",
        "outputId": "a2c4db58-e0df-4d92-cbff-1b0f3cbcd806"
      },
      "execution_count": null,
      "outputs": [
        {
          "output_type": "stream",
          "name": "stdout",
          "text": [
            "(200, 2)\n"
          ]
        }
      ]
    },
    {
      "cell_type": "code",
      "source": [
        "trainX.shape\n"
      ],
      "metadata": {
        "colab": {
          "base_uri": "https://localhost:8080/"
        },
        "id": "JGwk5AJt8zRK",
        "outputId": "afd13d94-fe6e-45ce-f4c4-3e8cb9169cd4"
      },
      "execution_count": null,
      "outputs": [
        {
          "output_type": "execute_result",
          "data": {
            "text/plain": [
              "(800, 96, 96, 3)"
            ]
          },
          "metadata": {},
          "execution_count": 57
        }
      ]
    }
  ]
}